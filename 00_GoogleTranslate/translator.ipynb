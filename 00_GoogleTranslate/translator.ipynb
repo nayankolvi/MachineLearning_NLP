{
 "cells": [
  {
   "cell_type": "code",
   "execution_count": 15,
   "metadata": {},
   "outputs": [],
   "source": [
    "from deep_translator import GoogleTranslator\n",
    "import pandas as pd\n",
    "\n",
    "translater = GoogleTranslator()\n",
    "df = pd.read_excel(open(\".\\Req1.xls\", 'rb'),\n",
    "              sheet_name='Sheet0')\n",
    "\n",
    "# Write to excel\n",
    "writer = pd.ExcelWriter(\"Req1_res.xlsx\", engine='xlsxwriter')\n",
    "\n",
    "# write existing df to sheet SheetName\n",
    "df.to_excel(writer, index=False, sheet_name=\"Result\")\n",
    "\n",
    "# create work book\n",
    "workbook  = writer.book\n",
    "worksheet = workbook.add_worksheet(\"StateMachine Requirements\")\n",
    "NANCount = 0\n",
    "\n",
    "for rowIndex, row in df.iterrows(): #iterate over rows\n",
    "    cIdx = 'A'\n",
    "    for columnIndex, value in row.items():\n",
    "        cellValue = str(cIdx) + str(rowIndex)\n",
    "        if not pd.isna(value):\n",
    "            worksheet.write(cellValue, GoogleTranslator(source='auto', target='en').translate(str(value)))\n",
    "            NANCount = 0\n",
    "        else:\n",
    "            NANCount = NANCount + 1\n",
    "        cIdx = chr(ord(cIdx) + 1)\n",
    "    \n",
    "    if NANCount > 10:\n",
    "        break\n",
    "\n",
    "# close the excel sheet writer\n",
    "writer.close()"
   ]
  }
 ],
 "metadata": {
  "kernelspec": {
   "display_name": "NLP",
   "language": "python",
   "name": "python3"
  },
  "language_info": {
   "codemirror_mode": {
    "name": "ipython",
    "version": 3
   },
   "file_extension": ".py",
   "mimetype": "text/x-python",
   "name": "python",
   "nbconvert_exporter": "python",
   "pygments_lexer": "ipython3",
   "version": "3.10.11"
  },
  "orig_nbformat": 4
 },
 "nbformat": 4,
 "nbformat_minor": 2
}
